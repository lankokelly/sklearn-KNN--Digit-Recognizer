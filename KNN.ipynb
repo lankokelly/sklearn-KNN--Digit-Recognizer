{
 "cells": [
  {
   "cell_type": "markdown",
   "metadata": {},
   "source": [
    "training set：第一列為label，其餘784列為pixel(28x28)\n",
    "\n",
    "testing set：14000列，判斷這N樣本的手寫輸入(原資料有28000列，但我的筆電有點快壞掉了，所以減少一半的資料減輕老電腦的負擔，在訓練集亦減少一半的資料)\n",
    "\n",
    "使用 KNN 算臨近5個training set是什麼數字，選擇最高票\n",
    "\n",
    "資料來源 : https://www.kaggle.com/c/digit-recognizer/data\n",
    "\n",
    "使用sklearn-KNN演算法完成kaggle的手寫辨識code如下："
   ]
  },
  {
   "cell_type": "code",
   "execution_count": 3,
   "metadata": {},
   "outputs": [
    {
     "name": "stdout",
     "output_type": "stream",
     "text": [
      "             precision    recall  f1-score   support\n",
      "\n",
      "          0       1.00      1.00      1.00       201\n",
      "          1       0.96      0.99      0.98       246\n",
      "          2       0.99      0.95      0.97       199\n",
      "          3       0.96      0.94      0.95       212\n",
      "          4       0.96      0.97      0.96       194\n",
      "          5       0.93      0.95      0.94       181\n",
      "          6       0.96      0.98      0.97       219\n",
      "          7       0.91      0.97      0.94       238\n",
      "          8       0.96      0.91      0.93       214\n",
      "          9       0.94      0.90      0.92       196\n",
      "\n",
      "avg / total       0.96      0.96      0.96      2100\n",
      "\n"
     ]
    }
   ],
   "source": [
    "# coding: utf-8\n",
    "import csv\n",
    "import sklearn.cross_validation as cross_validation\n",
    "from sklearn import neighbors\n",
    "from sklearn import neighbors\n",
    "import sklearn.metrics as metrics\n",
    "\n",
    "csvfile = open(r'C:\\Users\\User\\Desktop\\x-villageee\\train.csv', 'r')\n",
    "reader=csv.reader(csvfile)\n",
    "headers = next(reader)\n",
    "#print (headers)\n",
    "\n",
    "featureList=[]\n",
    "labelList=[]\n",
    "for row in reader:\n",
    "    labelList.append(row[0])\n",
    "    featureList.append(row[1:])\n",
    "train_data, test_data, train_target, test_target = cross_validation.train_test_split(featureList,labelList, test_size=0.1, random_state=0)\n",
    " \n",
    "\n",
    "knn = neighbors.KNeighborsClassifier()\n",
    "knn.fit(train_data,train_target)\n",
    "predict_test = knn.predict(test_data)\n",
    "print (metrics.classification_report(test_target, predict_test))\n",
    "\n",
    "f = open(r\"C:\\Users\\User\\Desktop\\x-villageee\\result.csv\", \"w\")\n",
    "for i in predict_test:    \n",
    "    f.write(i+'\\n')\n",
    "f.close()"
   ]
  },
  {
   "cell_type": "code",
   "execution_count": null,
   "metadata": {},
   "outputs": [],
   "source": []
  },
  {
   "cell_type": "code",
   "execution_count": null,
   "metadata": {},
   "outputs": [],
   "source": []
  }
 ],
 "metadata": {
  "kernelspec": {
   "display_name": "Python 3",
   "language": "python",
   "name": "python3"
  },
  "language_info": {
   "codemirror_mode": {
    "name": "ipython",
    "version": 3
   },
   "file_extension": ".py",
   "mimetype": "text/x-python",
   "name": "python",
   "nbconvert_exporter": "python",
   "pygments_lexer": "ipython3",
   "version": "3.6.5"
  }
 },
 "nbformat": 4,
 "nbformat_minor": 2
}
